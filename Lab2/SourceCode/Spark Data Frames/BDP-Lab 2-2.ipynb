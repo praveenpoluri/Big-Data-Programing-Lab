{
 "cells": [
  {
   "cell_type": "code",
   "execution_count": 1,
   "metadata": {},
   "outputs": [],
   "source": [
    "# pip install pyspark"
   ]
  },
  {
   "cell_type": "code",
   "execution_count": null,
   "metadata": {},
   "outputs": [],
   "source": []
  },
  {
   "cell_type": "code",
   "execution_count": 2,
   "metadata": {},
   "outputs": [],
   "source": [
    "# pip install findspark"
   ]
  },
  {
   "cell_type": "code",
   "execution_count": 3,
   "metadata": {},
   "outputs": [],
   "source": [
    "import findspark"
   ]
  },
  {
   "cell_type": "code",
   "execution_count": 4,
   "metadata": {},
   "outputs": [],
   "source": [
    "findspark.init()"
   ]
  },
  {
   "cell_type": "code",
   "execution_count": 5,
   "metadata": {},
   "outputs": [],
   "source": [
    "from pyspark.sql import SparkSession\n",
    "from pyspark.sql import *\n",
    "from pyspark.sql.types import DoubleType,IntegerType\n",
    "import pyspark.sql.functions as F\n",
    "\n",
    "spark = SparkSession \\\n",
    "    .builder \\\n",
    "    .appName(\"Lab assignment\") \\\n",
    "    .getOrCreate()\n",
    "\n",
    "matches_df  = spark.read.csv(r\"C:\\Users\\jagad\\Desktop\\WorldCupMatches.csv\", header=True)\n"
   ]
  },
  {
   "cell_type": "code",
   "execution_count": 6,
   "metadata": {},
   "outputs": [
    {
     "name": "stdout",
     "output_type": "stream",
     "text": [
      "+----+--------------------+-----------------+--------------------+-----------+--------------+---------------+---------------+--------------+--------------------+----------+--------------------+--------------------+--------------------+--------------------+--------------------+-------+-------+------------------+------------------+\n",
      "|Year|            Datetime|            Stage|             Stadium|       City|Home Team Name|Home Team Goals|Away Team Goals|Away Team Name|      Win conditions|Attendance|Half-time Home Goals|Half-time Away Goals|             Referee|         Assistant 1|         Assistant 2|RoundID|MatchID|Home Team Initials|Away Team Initials|\n",
      "+----+--------------------+-----------------+--------------------+-----------+--------------+---------------+---------------+--------------+--------------------+----------+--------------------+--------------------+--------------------+--------------------+--------------------+-------+-------+------------------+------------------+\n",
      "|1930|13 Jul 1930 - 15:00 |          Group 1|             Pocitos|Montevideo |        France|              4|              1|        Mexico|                    |      4444|                   3|                   0|LOMBARDI Domingo ...|CRISTOPHE Henry (...| REGO Gilberto (BRA)|    201|   1096|               FRA|               MEX|\n",
      "|1930|13 Jul 1930 - 15:00 |          Group 4|      Parque Central|Montevideo |           USA|              3|              0|       Belgium|                    |     18346|                   2|                   0|   MACIAS Jose (ARG)|MATEUCCI Francisc...|WARNKEN Alberto (...|    201|   1090|               USA|               BEL|\n",
      "|1930|14 Jul 1930 - 12:45 |          Group 2|      Parque Central|Montevideo |    Yugoslavia|              2|              1|        Brazil|                    |     24059|                   2|                   0| TEJADA Anibal (URU)|VALLARINO Ricardo...| BALWAY Thomas (FRA)|    201|   1093|               YUG|               BRA|\n",
      "|1930|14 Jul 1930 - 14:50 |          Group 3|             Pocitos|Montevideo |       Romania|              3|              1|          Peru|                    |      2549|                   1|                   0|WARNKEN Alberto (...| LANGENUS Jean (BEL)|MATEUCCI Francisc...|    201|   1098|               ROU|               PER|\n",
      "|1930|15 Jul 1930 - 16:00 |          Group 1|      Parque Central|Montevideo |     Argentina|              1|              0|        France|                    |     23409|                   0|                   0| REGO Gilberto (BRA)|SAUCEDO Ulises (BOL)|RADULESCU Constan...|    201|   1085|               ARG|               FRA|\n",
      "|1930|16 Jul 1930 - 14:45 |          Group 1|      Parque Central|Montevideo |         Chile|              3|              0|        Mexico|                    |      9249|                   1|                   0|CRISTOPHE Henry (...|APHESTEGUY Martin...| LANGENUS Jean (BEL)|    201|   1095|               CHI|               MEX|\n",
      "|1930|17 Jul 1930 - 12:45 |          Group 2|      Parque Central|Montevideo |    Yugoslavia|              4|              0|       Bolivia|                    |     18306|                   0|                   0|MATEUCCI Francisc...|LOMBARDI Domingo ...|WARNKEN Alberto (...|    201|   1092|               YUG|               BOL|\n",
      "|1930|17 Jul 1930 - 14:45 |          Group 4|      Parque Central|Montevideo |           USA|              3|              0|      Paraguay|                    |     18306|                   2|                   0|   MACIAS Jose (ARG)|APHESTEGUY Martin...| TEJADA Anibal (URU)|    201|   1097|               USA|               PAR|\n",
      "|1930|18 Jul 1930 - 14:30 |          Group 3|  Estadio Centenario|Montevideo |       Uruguay|              1|              0|          Peru|                    |     57735|                   0|                   0| LANGENUS Jean (BEL)| BALWAY Thomas (FRA)|CRISTOPHE Henry (...|    201|   1099|               URU|               PER|\n",
      "|1930|19 Jul 1930 - 12:50 |          Group 1|  Estadio Centenario|Montevideo |         Chile|              1|              0|        France|                    |      2000|                   0|                   0| TEJADA Anibal (URU)|LOMBARDI Domingo ...| REGO Gilberto (BRA)|    201|   1094|               CHI|               FRA|\n",
      "|1930|19 Jul 1930 - 15:00 |          Group 1|  Estadio Centenario|Montevideo |     Argentina|              6|              3|        Mexico|                    |     42100|                   3|                   1|SAUCEDO Ulises (BOL)|ALONSO Gualberto ...|RADULESCU Constan...|    201|   1086|               ARG|               MEX|\n",
      "|1930|20 Jul 1930 - 13:00 |          Group 2|  Estadio Centenario|Montevideo |        Brazil|              4|              0|       Bolivia|                    |     25466|                   1|                   0| BALWAY Thomas (FRA)|MATEUCCI Francisc...|VALLEJO Gaspar (MEX)|    201|   1091|               BRA|               BOL|\n",
      "|1930|20 Jul 1930 - 15:00 |          Group 4|  Estadio Centenario|Montevideo |      Paraguay|              1|              0|       Belgium|                    |     12000|                   1|                   0|VALLARINO Ricardo...|   MACIAS Jose (ARG)|LOMBARDI Domingo ...|    201|   1089|               PAR|               BEL|\n",
      "|1930|21 Jul 1930 - 14:50 |          Group 3|  Estadio Centenario|Montevideo |       Uruguay|              4|              0|       Romania|                    |     70022|                   4|                   0| REGO Gilberto (BRA)|WARNKEN Alberto (...|SAUCEDO Ulises (BOL)|    201|   1100|               URU|               ROU|\n",
      "|1930|22 Jul 1930 - 14:45 |          Group 1|  Estadio Centenario|Montevideo |     Argentina|              3|              1|         Chile|                    |     41459|                   2|                   1| LANGENUS Jean (BEL)|CRISTOPHE Henry (...|SAUCEDO Ulises (BOL)|    201|   1084|               ARG|               CHI|\n",
      "|1930|26 Jul 1930 - 14:45 |      Semi-finals|  Estadio Centenario|Montevideo |     Argentina|              6|              1|           USA|                    |     72886|                   1|                   0| LANGENUS Jean (BEL)|VALLEJO Gaspar (MEX)|WARNKEN Alberto (...|    202|   1088|               ARG|               USA|\n",
      "|1930|27 Jul 1930 - 14:45 |      Semi-finals|  Estadio Centenario|Montevideo |       Uruguay|              6|              1|    Yugoslavia|                    |     79867|                   3|                   1| REGO Gilberto (BRA)|SAUCEDO Ulises (BOL)| BALWAY Thomas (FRA)|    202|   1101|               URU|               YUG|\n",
      "|1930|30 Jul 1930 - 14:15 |            Final|  Estadio Centenario|Montevideo |       Uruguay|              4|              2|     Argentina|                    |     68346|                   1|                   2| LANGENUS Jean (BEL)|SAUCEDO Ulises (BOL)|CRISTOPHE Henry (...|    405|   1087|               URU|               ARG|\n",
      "|1934|27 May 1934 - 16:30 |Preliminary round|Stadio Benito Mus...|     Turin |       Austria|              3|              2|        France|Austria win after...|     16000|                   0|                   0|VAN MOORSEL Johan...|CAIRONI Camillo (...|   BAERT Louis (BEL)|    204|   1104|               AUT|               FRA|\n",
      "|1934|27 May 1934 - 16:30 |Preliminary round|   Giorgio Ascarelli|    Naples |       Hungary|              4|              2|         Egypt|                    |      9000|                   2|                   2|BARLASSINA Rinald...|DATTILO Generoso ...|  SASSI Otello (ITA)|    204|   1119|               HUN|               EGY|\n",
      "+----+--------------------+-----------------+--------------------+-----------+--------------+---------------+---------------+--------------+--------------------+----------+--------------------+--------------------+--------------------+--------------------+--------------------+-------+-------+------------------+------------------+\n",
      "only showing top 20 rows\n",
      "\n"
     ]
    }
   ],
   "source": [
    "matches_df.show()"
   ]
  },
  {
   "cell_type": "code",
   "execution_count": 7,
   "metadata": {},
   "outputs": [],
   "source": [
    "matches_df = matches_df.withColumnRenamed('city','place')\n",
    "matches_df = matches_df.withColumnRenamed('Away Team Goals','Opponent_Team_Goals')\n",
    "matches_df = matches_df.withColumnRenamed('Away Team Name','Opponent_Team_Name')\n",
    "matches_df = matches_df.withColumnRenamed('Attendance','Spectator_Count')\n",
    "matches_df = matches_df.withColumnRenamed('Stage','League_Stage')\n",
    "matches_df = matches_df.withColumnRenamed('Datetime','Date_Time')\n",
    "matches_df = matches_df.withColumnRenamed('Half-time Away Goals','Half-time_Opponent_Goals')\n",
    "matches_df = matches_df.withColumnRenamed('Home Team Goals','Home_Team_Goals')\n",
    "matches_df = matches_df.withColumnRenamed('Home Team Name','Home_Team_Name')\n",
    "matches_df = matches_df.withColumnRenamed('Win conditions','Win_conditions')\n",
    "matches_df = matches_df.withColumnRenamed('Half-time Home Goals','Half-time_Home_Goals')\n",
    "matches_df = matches_df.withColumnRenamed('Assistant 1','Assistant_1')\n",
    "matches_df = matches_df.withColumnRenamed('Assistant 2','Assistant_2')\n",
    "matches_df = matches_df.withColumnRenamed('Home Team Initials','Home_Team_Initials')\n",
    "matches_df = matches_df.withColumnRenamed('Away Team Initials','Away_Team_Initials')"
   ]
  },
  {
   "cell_type": "code",
   "execution_count": 8,
   "metadata": {},
   "outputs": [
    {
     "data": {
      "text/plain": [
       "<bound method DataFrame.printSchema of DataFrame[Year: string, Date_Time: string, League_Stage: string, Stadium: string, place: string, Home_Team_Name: string, Home_Team_Goals: string, Opponent_Team_Goals: string, Opponent_Team_Name: string, Win_conditions: string, Spectator_Count: string, Half-time_Home_Goals: string, Half-time_Opponent_Goals: string, Referee: string, Assistant_1: string, Assistant_2: string, RoundID: string, MatchID: string, Home_Team_Initials: string, Away_Team_Initials: string]>"
      ]
     },
     "execution_count": 8,
     "metadata": {},
     "output_type": "execute_result"
    }
   ],
   "source": [
    "matches_df.printSchema\n"
   ]
  },
  {
   "cell_type": "code",
   "execution_count": 9,
   "metadata": {},
   "outputs": [],
   "source": [
    "matches_df  = matches_df.withColumn('Spectator_Count', matches_df['Spectator_Count'].cast(IntegerType()))\n",
    "matches_df  = matches_df.withColumn('Opponent_Team_Goals', matches_df['Opponent_Team_Goals'].cast(IntegerType()))\n",
    "matches_df = matches_df.withColumn('Home_Team_Goals', matches_df['Home_Team_Goals'].cast(IntegerType()))\n",
    "matches_df = matches_df.withColumn('Half-time_Home_Goals', matches_df['Half-time_Home_Goals'].cast(IntegerType()))\n",
    "matches_df = matches_df.withColumn('Half-time_Opponent_Goals', matches_df['Half-time_Opponent_Goals'].cast(IntegerType()))\n",
    "matches_df = matches_df.withColumn('Home_Team_Goals', matches_df['Home_Team_Goals'].cast(IntegerType()))"
   ]
  },
  {
   "cell_type": "code",
   "execution_count": 10,
   "metadata": {},
   "outputs": [
    {
     "name": "stdout",
     "output_type": "stream",
     "text": [
      "+--------------+---------------+\n",
      "|Home_Team_Name|Home_Team_Goals|\n",
      "+--------------+---------------+\n",
      "|       Hungary|             10|\n",
      "|       Hungary|              9|\n",
      "|    Yugoslavia|              9|\n",
      "|        Sweden|              8|\n",
      "|       Uruguay|              8|\n",
      "+--------------+---------------+\n",
      "only showing top 5 rows\n",
      "\n"
     ]
    }
   ],
   "source": [
    "#query 1 top 5 home teams with highest number of goals\n",
    "matches_df.createOrReplaceTempView(\"WorldCupMatches\")\n",
    "matches_df.select('Home_Team_Name','Home_Team_Goals').orderBy('Home_Team_Goals',ascending=False).show(5)\n"
   ]
  },
  {
   "cell_type": "code",
   "execution_count": 11,
   "metadata": {},
   "outputs": [
    {
     "name": "stdout",
     "output_type": "stream",
     "text": [
      "+-------+-----------+\n",
      "|MatchID|Total_Goals|\n",
      "+-------+-----------+\n",
      "|   1237|         21|\n",
      "|   2186|         15|\n",
      "|   1277|         15|\n",
      "|   1386|         14|\n",
      "|    896|         14|\n",
      "|   1086|         13|\n",
      "|   1284|         13|\n",
      "|   1294|         13|\n",
      "|   1382|         13|\n",
      "|   1702|         13|\n",
      "+-------+-----------+\n",
      "only showing top 10 rows\n",
      "\n"
     ]
    }
   ],
   "source": [
    "#query 2: Top 10 matches with highest number of goals\n",
    "# spark.sql('select sum(Home_Team_Goals,Away_Team_Goals) from  ').show()\n",
    "a = matches_df.withColumn(\"Total_Goals\", matches_df[\"Home_Team_Goals\"] + matches_df[\"Opponent_Team_Goals\"] + matches_df[\"Half-time_Home_Goals\"] + matches_df[\"Half-time_Opponent_Goals\"]).select('MatchID','Total_Goals')\n",
    "a.orderBy(\"Total_Goals\",ascending=False).show(10)"
   ]
  },
  {
   "cell_type": "code",
   "execution_count": 12,
   "metadata": {},
   "outputs": [
    {
     "name": "stdout",
     "output_type": "stream",
     "text": [
      "+----+-----+\n",
      "|year|count|\n",
      "+----+-----+\n",
      "|1930|   18|\n",
      "|1934|   17|\n",
      "|1938|   18|\n",
      "|1950|   22|\n",
      "|1954|   26|\n",
      "|1958|   35|\n",
      "|1962|   32|\n",
      "|1966|   32|\n",
      "|1970|   32|\n",
      "|1974|   38|\n",
      "|1978|   38|\n",
      "|1982|   52|\n",
      "|1986|   52|\n",
      "|1990|   52|\n",
      "|1994|   52|\n",
      "|1998|   64|\n",
      "|2002|   64|\n",
      "|2006|   64|\n",
      "|2010|   64|\n",
      "|2014|   80|\n",
      "+----+-----+\n",
      "only showing top 20 rows\n",
      "\n"
     ]
    }
   ],
   "source": [
    "#query 3number of matches held year wise\n",
    "# spark.sql('select year,count(*) as number_of_matches from WorldCupMatches group by year').show()\n",
    "matches_df.select('year').groupBy('year').count().show()"
   ]
  },
  {
   "cell_type": "code",
   "execution_count": 13,
   "metadata": {},
   "outputs": [
    {
     "name": "stdout",
     "output_type": "stream",
     "text": [
      "+--------------------+-----+\n",
      "|        League_Stage|count|\n",
      "+--------------------+-----+\n",
      "|             Group 1|   62|\n",
      "|             Group 4|   55|\n",
      "|             Group 2|   59|\n",
      "|             Group 3|   56|\n",
      "|         Semi-finals|   36|\n",
      "|               Final|   20|\n",
      "|   Preliminary round|    8|\n",
      "|      Quarter-finals|   66|\n",
      "|Match for third p...|   15|\n",
      "|         First round|    9|\n",
      "|             Group 6|   12|\n",
      "|             Group B|   60|\n",
      "|             Group A|   60|\n",
      "|             Group 5|    6|\n",
      "|             Group C|   48|\n",
      "|             Group D|   48|\n",
      "|             Group F|   48|\n",
      "|             Group E|   48|\n",
      "|         Round of 16|   72|\n",
      "|             Group H|   30|\n",
      "+--------------------+-----+\n",
      "only showing top 20 rows\n",
      "\n"
     ]
    }
   ],
   "source": [
    "# query 4 number of matches in each group stage\n",
    "matches_df.select('League_Stage').groupBy('League_Stage').count().show()"
   ]
  },
  {
   "cell_type": "code",
   "execution_count": 14,
   "metadata": {},
   "outputs": [
    {
     "name": "stdout",
     "output_type": "stream",
     "text": [
      "+--------------+-----+\n",
      "|       WonTeam|count|\n",
      "+--------------+-----+\n",
      "|        France|   35|\n",
      "|           USA|   12|\n",
      "|    Yugoslavia|   21|\n",
      "|       Romania|   11|\n",
      "|     Argentina|   54|\n",
      "|         Chile|   16|\n",
      "|       Uruguay|   25|\n",
      "|        Brazil|   75|\n",
      "|      Paraguay|   11|\n",
      "|       Austria|   15|\n",
      "|       Hungary|   16|\n",
      "|   Switzerland|   14|\n",
      "|        Sweden|   22|\n",
      "|       Germany|   35|\n",
      "|         Spain|   34|\n",
      "|         Italy|   52|\n",
      "|Czechoslovakia|   15|\n",
      "|          Cuba|    1|\n",
      "|       England|   35|\n",
      "|    Germany FR|   37|\n",
      "+--------------+-----+\n",
      "only showing top 20 rows\n",
      "\n"
     ]
    }
   ],
   "source": [
    "#query 5 Teams with the count of winning matches\n",
    "a =spark.sql(\"select CASE WHEN Home_Team_Goals > Opponent_Team_Goals THEN Home_Team_Name ELSE Opponent_Team_Name end as WonTeam  from WorldCupMatches\")\n",
    "a.groupBy('WonTeam').count().show()"
   ]
  },
  {
   "cell_type": "code",
   "execution_count": 15,
   "metadata": {},
   "outputs": [
    {
     "name": "stdout",
     "output_type": "stream",
     "text": [
      "+-------+\n",
      "|MatchID|\n",
      "+-------+\n",
      "|   1104|\n",
      "|   1134|\n",
      "|   1179|\n",
      "|   1150|\n",
      "|   1172|\n",
      "|   1295|\n",
      "|   1422|\n",
      "|   1633|\n",
      "|   1811|\n",
      "|   1925|\n",
      "|   1838|\n",
      "|   2198|\n",
      "|    432|\n",
      "|    422|\n",
      "|    102|\n",
      "|    181|\n",
      "|     55|\n",
      "|    103|\n",
      "|   3091|\n",
      "|   8776|\n",
      "+-------+\n",
      "only showing top 20 rows\n",
      "\n"
     ]
    }
   ],
   "source": [
    "#query 6 matches held with extra time given\n",
    "b =matches_df.select(matches_df[\"MatchID\"]).filter(matches_df[\"Win_conditions\"].contains(\"extra time\")).show()"
   ]
  },
  {
   "cell_type": "code",
   "execution_count": 16,
   "metadata": {},
   "outputs": [
    {
     "name": "stdout",
     "output_type": "stream",
     "text": [
      "+--------------------+--------------------+\n",
      "|             Stadium|sum(Spectator_Count)|\n",
      "+--------------------+--------------------+\n",
      "|      Estadio Azteca|             1917550|\n",
      "|      Olympiastadion|              815300|\n",
      "|Maracan� - Est�di...|              813541|\n",
      "|     Wembley Stadium|              778034|\n",
      "| Estadio do Maracana|              741971|\n",
      "+--------------------+--------------------+\n",
      "only showing top 5 rows\n",
      "\n"
     ]
    }
   ],
   "source": [
    "#query 7 top 5 stadiums occupied highest number of spectators for the matches in dataset\n",
    "matches_df.select('Stadium','Spectator_Count').groupBy('Stadium').sum().orderBy('sum(Spectator_Count)',ascending=False).show(5)"
   ]
  },
  {
   "cell_type": "code",
   "execution_count": 17,
   "metadata": {},
   "outputs": [
    {
     "data": {
      "text/plain": [
       "8"
      ]
     },
     "execution_count": 17,
     "metadata": {},
     "output_type": "execute_result"
    }
   ],
   "source": [
    "#query 8 Matches held on 8th June 1958\n",
    "matches_df.select('Home_Team_Name').filter(matches_df[\"Date_Time\"].contains(\"08 Jun 1958\")).count()"
   ]
  },
  {
   "cell_type": "code",
   "execution_count": 18,
   "metadata": {},
   "outputs": [
    {
     "name": "stdout",
     "output_type": "stream",
     "text": [
      "+----+----------------+\n",
      "|Year|max(total_goals)|\n",
      "+----+----------------+\n",
      "|1930|              13|\n",
      "|1934|              11|\n",
      "|1938|              12|\n",
      "|1950|              12|\n",
      "|1954|              21|\n",
      "|1958|              14|\n",
      "|1962|              12|\n",
      "|1966|              13|\n",
      "|1970|              10|\n",
      "|1974|              15|\n",
      "|1978|              10|\n",
      "|1982|              14|\n",
      "|1986|              10|\n",
      "|1990|               8|\n",
      "|1994|              10|\n",
      "|1998|               9|\n",
      "|2002|              12|\n",
      "|2006|               9|\n",
      "|2010|               8|\n",
      "|2014|              13|\n",
      "+----+----------------+\n",
      "only showing top 20 rows\n",
      "\n"
     ]
    }
   ],
   "source": [
    "#query 9 max all type of goals scored year wise\n",
    "goals = matches_df.withColumn('total_goals',  matches_df[\"Home_Team_Goals\"] + matches_df[\"Opponent_Team_Goals\"] + matches_df[\"Half-time_Home_Goals\"] + matches_df[\"Half-time_Opponent_Goals\"]).select('total_goals','year')\n",
    "goals.groupBy('Year').max('total_goals').show()"
   ]
  },
  {
   "cell_type": "code",
   "execution_count": 19,
   "metadata": {},
   "outputs": [
    {
     "name": "stdout",
     "output_type": "stream",
     "text": [
      "+-------+------------------+-------------------+--------------------+------------------------+\n",
      "|summary|   Home_Team_Goals|Opponent_Team_Goals|Half-time_Home_Goals|Half-time_Opponent_Goals|\n",
      "+-------+------------------+-------------------+--------------------+------------------------+\n",
      "|  count|               852|                852|                 852|                     852|\n",
      "|   mean|1.8110328638497653|  1.022300469483568|  0.7089201877934272|      0.4284037558685446|\n",
      "| stddev|1.6102551385229658| 1.0875733783096067|   0.937414128662808|      0.6912518906955025|\n",
      "|    min|                 0|                  0|                   0|                       0|\n",
      "|    max|                10|                  7|                   6|                       5|\n",
      "+-------+------------------+-------------------+--------------------+------------------------+\n",
      "\n"
     ]
    }
   ],
   "source": [
    "#query 10 describe type of goals which gives count,mean,min and ma\n",
    "matches_df.describe(['Home_Team_Goals','Opponent_Team_Goals','Half-time_Home_Goals','Half-time_Opponent_Goals']).show()"
   ]
  },
  {
   "cell_type": "code",
   "execution_count": 20,
   "metadata": {},
   "outputs": [
    {
     "data": {
      "text/plain": [
       "26"
      ]
     },
     "execution_count": 20,
     "metadata": {},
     "output_type": "execute_result"
    }
   ],
   "source": [
    "#query 11 number of matches played in the year\n",
    "matches_df.filter(matches_df.Year.like(\"1954\")).count()"
   ]
  },
  {
   "cell_type": "code",
   "execution_count": 37,
   "metadata": {},
   "outputs": [
    {
     "data": {
      "text/plain": [
       "21"
      ]
     },
     "execution_count": 37,
     "metadata": {},
     "output_type": "execute_result"
    }
   ],
   "source": [
    "rdd =spark.sparkContext.textFile(r'C:\\Users\\jagad\\Desktop\\WorldCups.csv')\n",
    "\n",
    "rdd.count()"
   ]
  },
  {
   "cell_type": "code",
   "execution_count": 38,
   "metadata": {},
   "outputs": [],
   "source": [
    "# rddheader = rdd.first()\n",
    "# header = spark.sparkContext.parallelize([rddheader])\n",
    "# finalrdd = rdd.subtract(header)\n",
    "# finalrdd.take(2)\n",
    "header=rdd.first()\n",
    "final_rdd = rdd.filter(lambda x: x!=header)\n",
    "rdd = rdd.map(lambda line: (line.split(\",\")))"
   ]
  },
  {
   "cell_type": "code",
   "execution_count": 35,
   "metadata": {},
   "outputs": [
    {
     "data": {
      "text/plain": [
       "20"
      ]
     },
     "execution_count": 35,
     "metadata": {},
     "output_type": "execute_result"
    }
   ],
   "source": [
    "finalrdd.count()"
   ]
  },
  {
   "cell_type": "code",
   "execution_count": 200,
   "metadata": {},
   "outputs": [],
   "source": [
    "from pyspark.sql.types import StructType\n",
    "from pyspark.sql.types import StructField\n",
    "from pyspark.sql.types import StringType, DoubleType\n",
    "\n",
    "schema = StructType([StructField('Year', StringType(), True),\n",
    "                         StructField('Country', StringType(), True),\n",
    "                         StructField('Winner', StringType(), True),\n",
    "                         StructField('Runners-Up', StringType(), True),\n",
    "                         StructField('Third', StringType(), True),\n",
    "                         StructField('Fourth', StringType(), True),\n",
    "                         StructField('GoalsScored', StringType(), True),\n",
    "                         StructField('QualifiedTeams', StringType(), True),\n",
    "                         StructField('MatchesPlayed', StringType(), True),\n",
    "                         StructField('Attendance', StringType(), True)])\n",
    "\n",
    "df=spark.createDataFrame(rdd,schema=schema)\n",
    "\n",
    "df = df.withColumn('GoalsScored', df['GoalsScored'].cast(IntegerType()))\n",
    "df = df.withColumn('MatchesPlayed', df['MatchesPlayed'].cast(IntegerType()))\n",
    "df = df.withColumn('QualifiedTeams', df['QualifiedTeams'].cast(IntegerType()))"
   ]
  },
  {
   "cell_type": "code",
   "execution_count": 86,
   "metadata": {},
   "outputs": [
    {
     "data": {
      "text/plain": [
       "[('Argentina', 234),\n",
       " ('Brazil', 612),\n",
       " ('England', '89'),\n",
       " ('France', '171'),\n",
       " ('Germany', '171'),\n",
       " ('Germany FR', 352),\n",
       " ('Italy', 447),\n",
       " ('Spain', '145'),\n",
       " ('Uruguay', 158)]"
      ]
     },
     "execution_count": 86,
     "metadata": {},
     "output_type": "execute_result"
    }
   ],
   "source": [
    "#query 1,total number of goals scored by a winning team in all the matches\n",
    "#rdd\n",
    "final_rdd.filter(lambda x:x.split(','))\\\n",
    ".map(lambda x:(x.split(',')[2],x.split(',')[6]))\\\n",
    ".reduceByKey(lambda x,y:int(x)+int(y))\\\n",
    ".sortByKey().collect()\n"
   ]
  },
  {
   "cell_type": "code",
   "execution_count": 91,
   "metadata": {},
   "outputs": [
    {
     "name": "stdout",
     "output_type": "stream",
     "text": [
      "+----------+----------------+\n",
      "|    Winner|sum(GoalsScored)|\n",
      "+----------+----------------+\n",
      "| Argentina|             234|\n",
      "|    Brazil|             612|\n",
      "|   England|              89|\n",
      "|    France|             171|\n",
      "|   Germany|             171|\n",
      "|Germany FR|             352|\n",
      "|     Italy|             447|\n",
      "|     Spain|             145|\n",
      "|   Uruguay|             158|\n",
      "|    Winner|            null|\n",
      "+----------+----------------+\n",
      "\n"
     ]
    }
   ],
   "source": [
    "#data frame\n",
    "df.select('Winner','GoalsScored').groupBy('Winner').sum().sort('Winner').show()"
   ]
  },
  {
   "cell_type": "code",
   "execution_count": 133,
   "metadata": {},
   "outputs": [
    {
     "data": {
      "text/plain": [
       "[('Argentina', 2),\n",
       " ('Brazil', 5),\n",
       " ('England', 1),\n",
       " ('France', 1),\n",
       " ('Germany', 1),\n",
       " ('Germany FR', 3),\n",
       " ('Italy', 4),\n",
       " ('Spain', 1),\n",
       " ('Uruguay', 2)]"
      ]
     },
     "execution_count": 133,
     "metadata": {},
     "output_type": "execute_result"
    }
   ],
   "source": [
    "#query 2 countries with number of times won cup\n",
    "final_rdd.filter(lambda x:x.split(',')[2]!='null').map(lambda x:(x.split(',')[2],1))\\\n",
    ".reduceByKey(lambda a,b:a+b)\\\n",
    ".sortByKey()\\\n",
    ".collect()"
   ]
  },
  {
   "cell_type": "code",
   "execution_count": 132,
   "metadata": {},
   "outputs": [
    {
     "name": "stdout",
     "output_type": "stream",
     "text": [
      "+----------+-----+\n",
      "|    Winner|count|\n",
      "+----------+-----+\n",
      "| Argentina|    2|\n",
      "|    Brazil|    5|\n",
      "|   England|    1|\n",
      "|    France|    1|\n",
      "|   Germany|    1|\n",
      "|Germany FR|    3|\n",
      "|     Italy|    4|\n",
      "|     Spain|    1|\n",
      "|   Uruguay|    2|\n",
      "|    Winner|    1|\n",
      "+----------+-----+\n",
      "\n"
     ]
    }
   ],
   "source": [
    "#dataframe\n",
    "df.select('Winner').groupBy('Winner').count().orderBy('Winner').show()\n"
   ]
  },
  {
   "cell_type": "code",
   "execution_count": 153,
   "metadata": {},
   "outputs": [
    {
     "data": {
      "text/plain": [
       "[('Argentina', '38'),\n",
       " ('Brazil', 86),\n",
       " ('Chile', '32'),\n",
       " ('England', '32'),\n",
       " ('France', 82),\n",
       " ('Germany', 102),\n",
       " ('Italy', 69),\n",
       " ('Korea/Japan', '64'),\n",
       " ('Mexico', 84),\n",
       " ('South Africa', '64'),\n",
       " ('Spain', '52'),\n",
       " ('Sweden', '35'),\n",
       " ('Switzerland', '26'),\n",
       " ('USA', '52'),\n",
       " ('Uruguay', '18')]"
      ]
     },
     "execution_count": 153,
     "metadata": {},
     "output_type": "execute_result"
    }
   ],
   "source": [
    "# df = df.withColumn('Attendance', df['Attendance'].cast(LongType()))\n",
    "#query 3, country where highest number of matches played in all the years \n",
    "final_rdd.filter(lambda x:x.split(',')[1]!='null').map(lambda x:(x.split(',')[1],x.split(',')[8]))\\\n",
    ".reduceByKey(lambda a,b:int(a)+int(b))\\\n",
    ".sortByKey().collect()"
   ]
  },
  {
   "cell_type": "code",
   "execution_count": 186,
   "metadata": {},
   "outputs": [
    {
     "name": "stdout",
     "output_type": "stream",
     "text": [
      "+------------+------------------+\n",
      "|     Country|sum(MatchesPlayed)|\n",
      "+------------+------------------+\n",
      "|   Argentina|                38|\n",
      "|      Brazil|                86|\n",
      "|       Chile|                32|\n",
      "|     Country|              null|\n",
      "|     England|                32|\n",
      "|      France|                82|\n",
      "|     Germany|               102|\n",
      "|       Italy|                69|\n",
      "| Korea/Japan|                64|\n",
      "|      Mexico|                84|\n",
      "|South Africa|                64|\n",
      "|       Spain|                52|\n",
      "|      Sweden|                35|\n",
      "| Switzerland|                26|\n",
      "|         USA|                52|\n",
      "|     Uruguay|                18|\n",
      "+------------+------------------+\n",
      "\n"
     ]
    }
   ],
   "source": [
    "\n",
    "df.select('Country','MatchesPlayed').groupBy('Country').sum().sort('Country').show()"
   ]
  },
  {
   "cell_type": "code",
   "execution_count": 187,
   "metadata": {},
   "outputs": [
    {
     "data": {
      "text/plain": [
       "[['1930',\n",
       "  'Uruguay',\n",
       "  'Uruguay',\n",
       "  'Argentina',\n",
       "  'USA',\n",
       "  'Yugoslavia',\n",
       "  '70',\n",
       "  '13',\n",
       "  '18',\n",
       "  '590.549'],\n",
       " ['1934',\n",
       "  'Italy',\n",
       "  'Italy',\n",
       "  'Czechoslovakia',\n",
       "  'Germany',\n",
       "  'Austria',\n",
       "  '70',\n",
       "  '16',\n",
       "  '17',\n",
       "  '363.000'],\n",
       " ['1966',\n",
       "  'England',\n",
       "  'England',\n",
       "  'Germany FR',\n",
       "  'Portugal',\n",
       "  'Soviet Union',\n",
       "  '89',\n",
       "  '16',\n",
       "  '32',\n",
       "  '1.563.135'],\n",
       " ['1978',\n",
       "  'Argentina',\n",
       "  'Argentina',\n",
       "  'Netherlands',\n",
       "  'Brazil',\n",
       "  'Italy',\n",
       "  '102',\n",
       "  '16',\n",
       "  '38',\n",
       "  '1.545.791'],\n",
       " ['1998',\n",
       "  'France',\n",
       "  'France',\n",
       "  'Brazil',\n",
       "  'Croatia',\n",
       "  'Netherlands',\n",
       "  '171',\n",
       "  '32',\n",
       "  '64',\n",
       "  '2.785.100']]"
      ]
     },
     "execution_count": 187,
     "metadata": {},
     "output_type": "execute_result"
    }
   ],
   "source": [
    "#query 4, records with country and winner same\n",
    "final_rdd.map(lambda x:x.split(','))\\\n",
    ".filter(lambda x :x[1]==x[2]).collect()"
   ]
  },
  {
   "cell_type": "code",
   "execution_count": 188,
   "metadata": {},
   "outputs": [
    {
     "name": "stdout",
     "output_type": "stream",
     "text": [
      "+----+---------+---------+--------------+--------+------------+-----------+--------------+-------------+----------+\n",
      "|Year|  Country|   Winner|    Runners-Up|   Third|      Fourth|GoalsScored|QualifiedTeams|MatchesPlayed|Attendance|\n",
      "+----+---------+---------+--------------+--------+------------+-----------+--------------+-------------+----------+\n",
      "|1930|  Uruguay|  Uruguay|     Argentina|     USA|  Yugoslavia|         70|            13|           18|       590|\n",
      "|1934|    Italy|    Italy|Czechoslovakia| Germany|     Austria|         70|            16|           17|       363|\n",
      "|1966|  England|  England|    Germany FR|Portugal|Soviet Union|         89|            16|           32|      null|\n",
      "|1978|Argentina|Argentina|   Netherlands|  Brazil|       Italy|        102|            16|           38|      null|\n",
      "|1998|   France|   France|        Brazil| Croatia| Netherlands|        171|            32|           64|      null|\n",
      "+----+---------+---------+--------------+--------+------------+-----------+--------------+-------------+----------+\n",
      "\n"
     ]
    }
   ],
   "source": [
    "#dataframe\n",
    "df.filter(df.Country==df.Winner)\\\n",
    ".show()"
   ]
  },
  {
   "cell_type": "code",
   "execution_count": 195,
   "metadata": {},
   "outputs": [
    {
     "data": {
      "text/plain": [
       "['Uruguay',\n",
       " 'France',\n",
       " 'Brazil',\n",
       " 'Switzerland',\n",
       " 'Mexico',\n",
       " 'Argentina',\n",
       " 'USA',\n",
       " 'South Africa',\n",
       " 'Italy',\n",
       " 'Sweden',\n",
       " 'Chile',\n",
       " 'England',\n",
       " 'Germany',\n",
       " 'Spain',\n",
       " 'Korea/Japan']"
      ]
     },
     "execution_count": 195,
     "metadata": {},
     "output_type": "execute_result"
    }
   ],
   "source": [
    "#qurry 5 distinct countries\n",
    "final_rdd.filter(lambda x:x.split(',')[1]!='null')\\\n",
    ".map(lambda x:x.split(',')[1]).distinct()\\\n",
    ".collect()\n"
   ]
  },
  {
   "cell_type": "code",
   "execution_count": 196,
   "metadata": {},
   "outputs": [
    {
     "name": "stdout",
     "output_type": "stream",
     "text": [
      "+------------+\n",
      "|     Country|\n",
      "+------------+\n",
      "|      Sweden|\n",
      "|     Germany|\n",
      "|      France|\n",
      "|   Argentina|\n",
      "| Korea/Japan|\n",
      "|       Chile|\n",
      "|       Italy|\n",
      "|       Spain|\n",
      "|         USA|\n",
      "|     Uruguay|\n",
      "|      Mexico|\n",
      "| Switzerland|\n",
      "|      Brazil|\n",
      "|     England|\n",
      "|     Country|\n",
      "|South Africa|\n",
      "+------------+\n",
      "\n"
     ]
    }
   ],
   "source": [
    "#dataframe\n",
    "df.select(df.Country).distinct().show()"
   ]
  },
  {
   "cell_type": "code",
   "execution_count": 197,
   "metadata": {},
   "outputs": [
    {
     "data": {
      "text/plain": [
       "['1994,USA,Brazil,Italy,Sweden,Bulgaria,141,24,52,3.587.538']"
      ]
     },
     "execution_count": 197,
     "metadata": {},
     "output_type": "execute_result"
    }
   ],
   "source": [
    "#query 6 fetch record where country is USA\n",
    "final_rdd.filter(lambda x:x.split(',')[1]=='Argentina')\\\n",
    ".collect()"
   ]
  },
  {
   "cell_type": "code",
   "execution_count": 201,
   "metadata": {},
   "outputs": [
    {
     "name": "stdout",
     "output_type": "stream",
     "text": [
      "+----+-------+------+----------+------+--------+-----------+--------------+-------------+----------+\n",
      "|Year|Country|Winner|Runners-Up| Third|  Fourth|GoalsScored|QualifiedTeams|MatchesPlayed|Attendance|\n",
      "+----+-------+------+----------+------+--------+-----------+--------------+-------------+----------+\n",
      "|1994|    USA|Brazil|     Italy|Sweden|Bulgaria|        141|            24|           52| 3.587.538|\n",
      "+----+-------+------+----------+------+--------+-----------+--------------+-------------+----------+\n",
      "\n"
     ]
    }
   ],
   "source": [
    "df.filter(df.Country=='USA').show()"
   ]
  },
  {
   "cell_type": "code",
   "execution_count": null,
   "metadata": {},
   "outputs": [],
   "source": []
  }
 ],
 "metadata": {
  "kernelspec": {
   "display_name": "Python 3",
   "language": "python",
   "name": "python3"
  },
  "language_info": {
   "codemirror_mode": {
    "name": "ipython",
    "version": 3
   },
   "file_extension": ".py",
   "mimetype": "text/x-python",
   "name": "python",
   "nbconvert_exporter": "python",
   "pygments_lexer": "ipython3",
   "version": "3.7.6"
  }
 },
 "nbformat": 4,
 "nbformat_minor": 4
}
